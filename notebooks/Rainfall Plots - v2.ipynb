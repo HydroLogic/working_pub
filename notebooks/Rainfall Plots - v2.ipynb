{
 "cells": [
  {
   "cell_type": "code",
   "execution_count": null,
   "metadata": {
    "collapsed": true
   },
   "outputs": [],
   "source": [
    "%matplotlib inline\n",
    "from matplotlib import pyplot as plt\n",
    "import pandas as pd\n",
    "import netCDF4\n",
    "import geopandas as gpd\n",
    "import numpy as np\n",
    "import matplotlib\n",
    "from mpl_toolkits.basemap import Basemap"
   ]
  },
  {
   "cell_type": "markdown",
   "metadata": {},
   "source": [
    "The following function was taken from [here](http://stackoverflow.com/a/1060330)"
   ]
  },
  {
   "cell_type": "code",
   "execution_count": 1,
   "metadata": {
    "collapsed": true
   },
   "outputs": [],
   "source": [
    "from datetime import timedelta, date\n",
    "\n",
    "def daterange(start_date, end_date):\n",
    "    for n in range(int ((end_date - start_date).days)):\n",
    "        yield start_date + timedelta(n)"
   ]
  },
  {
   "cell_type": "code",
   "execution_count": 2,
   "metadata": {
    "collapsed": true
   },
   "outputs": [],
   "source": [
    "import urllib\n",
    "\n",
    "def getnetcdf(year, month, day):\n",
    "    formated_date = year+month+day+\".nc\"\n",
    "    url = 'http://water.weather.gov/precip/p_download_new/%s/%s/%s/nws_precip_conus_%s' % (year, month, day, formated_date)\n",
    "    tmp = urllib.URLopener()\n",
    "    tmp.retrieve(url, formated_date)"
   ]
  },
  {
   "cell_type": "code",
   "execution_count": 3,
   "metadata": {
    "collapsed": true
   },
   "outputs": [],
   "source": [
    "import os\n",
    "os.chdir('./tmp')"
   ]
  },
  {
   "cell_type": "code",
   "execution_count": 4,
   "metadata": {
    "collapsed": false
   },
   "outputs": [],
   "source": [
    "start_date = date(2015, 10, 1)\n",
    "end_date = date(2015, 10, 5)\n",
    "for single_date in daterange(start_date, end_date):\n",
    "    year =  single_date.strftime(\"%Y\")\n",
    "    month =  single_date.strftime(\"%m\")\n",
    "    day =  single_date.strftime(\"%d\")\n",
    "    formated =  str(year)+str(month)+str(day)+\".nc\"\n",
    "    getnetcdf(year, month, day)\n",
    "    nc = NetCDFFile(formated)"
   ]
  },
  {
   "cell_type": "code",
   "execution_count": null,
   "metadata": {
    "collapsed": false
   },
   "outputs": [],
   "source": []
  },
  {
   "cell_type": "code",
   "execution_count": null,
   "metadata": {
    "collapsed": false
   },
   "outputs": [],
   "source": []
  },
  {
   "cell_type": "code",
   "execution_count": null,
   "metadata": {
    "collapsed": false,
    "scrolled": false
   },
   "outputs": [],
   "source": []
  },
  {
   "cell_type": "code",
   "execution_count": null,
   "metadata": {
    "collapsed": false
   },
   "outputs": [],
   "source": [
    "\n",
    "testfile \n",
    "testfile.retrieve(\"http://water.weather.gov/precip/p_download_new/2016/02/02/nws_precip_conus_20160202.nc\", \"nws_precip_conus_20160202.nc\")"
   ]
  },
  {
   "cell_type": "code",
   "execution_count": null,
   "metadata": {
    "collapsed": false
   },
   "outputs": [],
   "source": []
  },
  {
   "cell_type": "code",
   "execution_count": null,
   "metadata": {
    "collapsed": false
   },
   "outputs": [],
   "source": [
    "import urllib\n",
    "testfile = urllib.URLopener()\n",
    "testfile.retrieve(\"http://water.weather.gov/precip/p_download_new/2016/02/02/nws_precip_conus_20160202.nc\", \"nws_precip_conus_20160202.nc\")"
   ]
  },
  {
   "cell_type": "code",
   "execution_count": null,
   "metadata": {
    "collapsed": false
   },
   "outputs": [],
   "source": []
  },
  {
   "cell_type": "code",
   "execution_count": null,
   "metadata": {
    "collapsed": true
   },
   "outputs": [],
   "source": []
  },
  {
   "cell_type": "code",
   "execution_count": null,
   "metadata": {
    "collapsed": true
   },
   "outputs": [],
   "source": [
    "url = 'http://water.weather.gov/precip/p_download_new/2016/02/02/nws_precip_1day_observed_shape_20160202.tar.gz'\n",
    "filename = 'nws_precip_1day_observed_shape_20160202'\n",
    "geodf = gpd.read_file(url, vfs='gzip://' + filename)"
   ]
  },
  {
   "cell_type": "code",
   "execution_count": null,
   "metadata": {
    "collapsed": false
   },
   "outputs": [],
   "source": [
    "def plot_conus():\n",
    "    \"\"\" Create a plot of the Continential US. \"\"\"\n",
    "    m = Basemap(\n",
    "        llcrnrlon=-130.0,\n",
    "        llcrnrlat=20.0,\n",
    "        urcrnrlon=-60.0,\n",
    "        urcrnrlat=55.0,\n",
    "        projection='mill',\n",
    "        resolution='')\n",
    "    m.drawcoastlines()\n",
    "    m.drawcountries()\n",
    "    m.drawstates()\n",
    "    return m\n",
    "\n",
    "# Colorbar with NSW Precip colors\n",
    "nws_precip_colors = [\n",
    "    \"#04e9e7\",  # 0.01 - 0.10 inches\n",
    "    \"#019ff4\",  # 0.10 - 0.25 inches\n",
    "    \"#0300f4\",  # 0.25 - 0.50 inches\n",
    "    \"#02fd02\",  # 0.50 - 0.75 inches\n",
    "    \"#01c501\",  # 0.75 - 1.00 inches\n",
    "    \"#008e00\",  # 1.00 - 1.50 inches\n",
    "    \"#fdf802\",  # 1.50 - 2.00 inches\n",
    "    \"#e5bc00\",  # 2.00 - 2.50 inches\n",
    "    \"#fd9500\",  # 2.50 - 3.00 inches\n",
    "    \"#fd0000\",  # 3.00 - 4.00 inches\n",
    "    \"#d40000\",  # 4.00 - 5.00 inches\n",
    "    \"#bc0000\",  # 5.00 - 6.00 inches\n",
    "    \"#f800fd\",  # 6.00 - 8.00 inches\n",
    "    \"#9854c6\",  # 8.00 - 10.00 inches\n",
    "    \"#fdfdfd\"   # 10.00+\n",
    "]\n",
    "precip_colormap = matplotlib.colors.ListedColormap(nws_precip_colors)\n",
    "\n",
    "\n",
    "# latitude and longitudes of HRAP grid\n",
    "HRAP_XOR = 14\n",
    "HRAP_YOR = 10\n",
    "\n",
    "\n",
    "def lat_lon_from_hrap(hrap_x, hrap_y):\n",
    "    \"\"\" Calculate the latitude and longitude for a HRAP grid. \"\"\"\n",
    "    raddeg = 57.29577951\n",
    "    earthrad = 6371.2\n",
    "    stdlon = 105.\n",
    "    mesh_len = 4.7625\n",
    "\n",
    "    tlat = 60. / raddeg\n",
    "    x = hrap_x - 401.\n",
    "    y = hrap_y - 1601.\n",
    "    rr = x * x + y * y\n",
    "    gi = ((earthrad * (1 + np.sin(tlat))) / mesh_len)\n",
    "    gi = gi * gi\n",
    "\n",
    "    ll_y = np.arcsin((gi - rr) / (gi + rr)) * raddeg\n",
    "    ang = np.arctan2(y, x) * raddeg\n",
    "    if (ang < 0):\n",
    "        ang = ang + 360.\n",
    "\n",
    "    ll_x = 270 + stdlon - ang\n",
    "    if (ll_x < 0):\n",
    "        ll_x = ll_x + 360\n",
    "    if (ll_x > 360):\n",
    "        ll_x = ll_x - 360\n",
    "    return ll_x, ll_y\n",
    "\n",
    "\n",
    "lats = np.empty((813, 1051), dtype='float')\n",
    "lons = np.empty((813, 1051), dtype='float')\n",
    "\n",
    "for i in xrange(813):\n",
    "    for j in xrange(1051):\n",
    "        hrap_x = j + HRAP_XOR + 0.5\n",
    "        hrap_y = i + HRAP_YOR + 0.5\n",
    "        lon, lat = lat_lon_from_hrap(hrap_x, hrap_y)\n",
    "        lats[i, j] = lat\n",
    "        lons[i, j] = -lon\n",
    "# read in the data, convert in inches\n",
    "dset = netCDF4.Dataset('nws_precip_conus_20160202.nc')\n",
    "precip = dset.variables['amountofprecip'][:]\n",
    "precip_in = np.ma.masked_less(precip / 2540., 0.01)\n",
    "# plot the data\n",
    "m = plot_conus()\n",
    "levels = [0.01, 0.1, 0.25, 0.50, 0.75, 1.0, 1.5, 2.0, 2.5, 3.0, 4.0, 5.0,\n",
    "          6.0, 8.0, 10., 20.0]\n",
    "norm = matplotlib.colors.BoundaryNorm(levels, 15)\n",
    "cax = m.pcolormesh(lons, lats, precip_in, latlon=True, norm=norm,\n",
    "                   cmap=precip_colormap)\n",
    "m.colorbar(cax)\n",
    "plt.savefig('conus_plot.png', dpi=200)"
   ]
  },
  {
   "cell_type": "code",
   "execution_count": null,
   "metadata": {
    "collapsed": true
   },
   "outputs": [],
   "source": [
    "from mpl_toolkits.basemap import Basemap, cm\n",
    "# requires netcdf4-python (netcdf4-python.googlecode.com)\n",
    "from netCDF4 import Dataset as NetCDFFile\n",
    "import numpy as np\n",
    "import matplotlib.pyplot as plt\n",
    "# plot rainfall from NWS using special precipitation\n",
    "# colormap used by the NWS, and included in basemap.\n",
    "\n",
    "nc = NetCDFFile('../../../examples/nws_precip_conus_20061222.nc')\n",
    "# data from http://water.weather.gov/precip/\n",
    "prcpvar = nc.variables['amountofprecip']\n",
    "data = 0.01*prcpvar[:]\n",
    "latcorners = nc.variables['lat'][:]\n",
    "loncorners = -nc.variables['lon'][:]\n",
    "lon_0 = -nc.variables['true_lon'].getValue()\n",
    "lat_0 = nc.variables['true_lat'].getValue()\n",
    "# create figure and axes instances\n",
    "fig = plt.figure(figsize=(8,8))\n",
    "ax = fig.add_axes([0.1,0.1,0.8,0.8])\n",
    "# create polar stereographic Basemap instance.\n",
    "m = Basemap(projection='stere',lon_0=lon_0,lat_0=90.,lat_ts=lat_0,\\\n",
    "            llcrnrlat=latcorners[0],urcrnrlat=latcorners[2],\\\n",
    "            llcrnrlon=loncorners[0],urcrnrlon=loncorners[2],\\\n",
    "            rsphere=6371200.,resolution='l',area_thresh=10000)\n",
    "# draw coastlines, state and country boundaries, edge of map.\n",
    "m.drawcoastlines()\n",
    "m.drawstates()\n",
    "m.drawcountries()\n",
    "# draw parallels.\n",
    "parallels = np.arange(0.,90,10.)\n",
    "m.drawparallels(parallels,labels=[1,0,0,0],fontsize=10)\n",
    "# draw meridians\n",
    "meridians = np.arange(180.,360.,10.)\n",
    "m.drawmeridians(meridians,labels=[0,0,0,1],fontsize=10)\n",
    "ny = data.shape[0]; nx = data.shape[1]\n",
    "lons, lats = m.makegrid(nx, ny) # get lat/lons of ny by nx evenly space grid.\n",
    "x, y = m(lons, lats) # compute map proj coordinates.\n",
    "# draw filled contours.\n",
    "clevs = [0,1,2.5,5,7.5,10,15,20,30,40,50,70,100,150,200,250,300,400,500,600,750]\n",
    "cs = m.contourf(x,y,data,clevs,cmap=cm.s3pcpn)\n",
    "# add colorbar.\n",
    "cbar = m.colorbar(cs,location='bottom',pad=\"5%\")\n",
    "cbar.set_label('mm')\n",
    "# add title\n",
    "plt.title(prcpvar.long_name+' for period ending '+prcpvar.dateofdata)\n",
    "plt.show()"
   ]
  },
  {
   "cell_type": "code",
   "execution_count": null,
   "metadata": {
    "collapsed": true
   },
   "outputs": [],
   "source": []
  }
 ],
 "metadata": {
  "kernelspec": {
   "display_name": "Python 2",
   "language": "python",
   "name": "python2"
  },
  "language_info": {
   "codemirror_mode": {
    "name": "ipython",
    "version": 2
   },
   "file_extension": ".py",
   "mimetype": "text/x-python",
   "name": "python",
   "nbconvert_exporter": "python",
   "pygments_lexer": "ipython2",
   "version": "2.7.11"
  }
 },
 "nbformat": 4,
 "nbformat_minor": 0
}
